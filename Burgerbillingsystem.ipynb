{
  "cells": [
    {
      "cell_type": "markdown",
      "metadata": {
        "id": "view-in-github",
        "colab_type": "text"
      },
      "source": [
        "<a href=\"https://colab.research.google.com/github/LangAbhinav/docs/blob/main/Burgerbillingsystem.ipynb\" target=\"_parent\"><img src=\"https://colab.research.google.com/assets/colab-badge.svg\" alt=\"Open In Colab\"/></a>"
      ]
    },
    {
      "cell_type": "code",
      "execution_count": null,
      "metadata": {
        "colab": {
          "background_save": true
        },
        "id": "bLxVNXqyeS36",
        "outputId": "99415446-7a28-4109-b534-9d325168ff7f"
      },
      "outputs": [
        {
          "name": "stdout",
          "output_type": "stream",
          "text": [
            "      Menu:     \n",
            "sr.   name         price\n",
            "1.   aloo tikki    5$\n",
            "2.   maharaja    10$\n",
            "3.   mac special    15$\n"
          ]
        }
      ],
      "source": [
        "class BurgerBillingSystem:\n",
        "    menu = {\n",
        "        1: {\"name\": \"aloo tikki\",\"price\": 5},\n",
        "        2: {\"name\": \"maharaja\", \"price\": 10},\n",
        "        3: {\"name\": \"mac special\",\"price\": 15},\n",
        "        # Add more items to the menu if needed\n",
        "    }\n",
        "\n",
        "    def __init__(self):\n",
        "        self.order_list = []\n",
        "\n",
        "    def display_menu(self):\n",
        "        print(\"      Menu:     \")\n",
        "        print(\"sr.         name             price\")\n",
        "        for key, value in self.menu.items():\n",
        "            print(f\"{key}.{value['name']} {value['price']}$\")\n",
        "\n",
        "    def take_order(self):\n",
        "        item_number = int(input(\"Enter the number of the item you want to order: \"))\n",
        "        quantity = int(input(\"Enter the quantity: \"))\n",
        "        student_discount = 0.2 if input(\"Are you a student? (yes/no): \").lower() == 'yes' else 0\n",
        "        delivery_charge = 0.05 if input(\"Do you want delivery? (yes/no): \").lower() == 'yes' else 0\n",
        "        tip_amount = float(input(\"Do you want to give a tip? Enter tip amount (0,1... if none): \"))\n",
        "\n",
        "        order = {\n",
        "            \"name\": self.menu[item_number][\"name\"],\n",
        "            \"price\": self.menu[item_number][\"price\"],\n",
        "            \"quantity\": quantity,\n",
        "            \"total_price\": quantity * self.menu[item_number][\"price\"] * (1 - student_discount) * (1 + delivery_charge) + tip_amount\n",
        "        }\n",
        "\n",
        "        self.order_list.append(order)\n",
        "\n",
        "    def print_bill(self):\n",
        "        print(\"\\n******************final bill***********************\")\n",
        "        print(\"sr. name      price quantity      total_price\")\n",
        "        total_bill = 0\n",
        "\n",
        "        for order in self.order_list:\n",
        "            total_bill += order[\"total_price\"]\n",
        "            print(f\"{self.order_list.index(order) + 1}. {order['name'] <12} {order['price']}$ {order['quantity']} {order['total_price']}$\")\n",
        "\n",
        "        print(\"\\n------------------------------------------\")\n",
        "        print(f\"Total bill: {total_bill}$\")\n",
        "        print(\"\\nThank you and come again\")\n",
        "\n",
        "\n",
        "def main():\n",
        "    billing_system = BurgerBillingSystem()\n",
        "    billing_system.display_menu()\n",
        "\n",
        "    num_orders = int(input(\"How many items orders would you like to place? \"))\n",
        "\n",
        "    for _ in range(num_orders):\n",
        "        billing_system.take_order()\n",
        "\n",
        "    billing_system.print_bill()\n",
        "\n",
        "\n",
        "if __name__ == \"__main__\":\n",
        "    main()\n"
      ]
    },
    {
      "cell_type": "code",
      "execution_count": null,
      "metadata": {
        "colab": {
          "background_save": true,
          "base_uri": "https://localhost:8080/"
        },
        "id": "I31jrWFUkXyB",
        "outputId": "9f9ab723-099e-4d85-9c1a-0c4d3369a436"
      },
      "outputs": [
        {
          "name": "stdout",
          "output_type": "stream",
          "text": [
            "Menu:\n",
            "sr. name price\n",
            "1. aloo tikki 5$\n",
            "2. maharaja 10$\n",
            "3. mac special 15$\n"
          ]
        }
      ],
      "source": [
        "class BurgerBillingSystem:\n",
        "    menu = {\n",
        "        1: {\"name\": \"aloo tikki\", \"price\": 5},\n",
        "        2: {\"name\": \"maharaja\", \"price\": 10},\n",
        "        3: {\"name\": \"mac special\", \"price\": 15},\n",
        "        # Add more items to the menu if needed\n",
        "    }\n",
        "\n",
        "    def __init__(self):\n",
        "        self.order_list = []\n",
        "\n",
        "    def display_menu(self):\n",
        "        print(\"Menu:\")\n",
        "        print(\"sr. name price\")\n",
        "        for key, value in self.menu.items():\n",
        "            print(f\"{key}. {value['name']} {value['price']}$\")\n",
        "\n",
        "    def take_order(self):\n",
        "        item_number = int(input(\"Enter the number of the item you want to order: \"))\n",
        "        quantity = int(input(\"Enter the quantity: \"))\n",
        "        student_discount = 0.2 if input(\"Are you a student? (yes/no): \").lower() == 'yes' else 0\n",
        "        delivery_charge = 0.05 if input(\"Do you want delivery? (yes/no): \").lower() == 'yes' else 0\n",
        "        tip_amount = float(input(\"Do you want to give a tip? Enter tip amount (0 if none): \"))\n",
        "\n",
        "        order = {\n",
        "            \"name\": self.menu[item_number][\"name\"],\n",
        "            \"price\": self.menu[item_number][\"price\"],\n",
        "            \"quantity\": quantity,\n",
        "            \"total_price\": quantity * self.menu[item_number][\"price\"] * (1 - student_discount) * (1 + delivery_charge) + tip_amount\n",
        "        }\n",
        "\n",
        "        self.order_list.append(order)\n",
        "\n",
        "    def print_bill(self):\n",
        "        print(\"\\n******************final bill***********************\")\n",
        "        print(\"sr. name        price quantity total_price\")\n",
        "        total_bill = 0\n",
        "\n",
        "        for order in self.order_list:\n",
        "            total_bill += order[\"total_price\"]\n",
        "            print(f\"{self.order_list.index(order) + 1}. {order['name']: <12} {order['price']}$ {order['quantity']} {order['total_price']}$\")\n",
        "\n",
        "        print(\"\\n------------------------------------------\")\n",
        "        print(f\"Total bill: {total_bill}$\")\n",
        "        print(\"\\nThank you and come again\")\n",
        "\n",
        "\n",
        "def main():\n",
        "    billing_system = BurgerBillingSystem()\n",
        "    billing_system.display_menu()\n",
        "\n",
        "    num_orders = int(input(\"How many orders would you like to place? \"))\n",
        "\n",
        "    for _ in range(num_orders):\n",
        "        billing_system.take_order()\n",
        "\n",
        "    billing_system.print_bill()\n",
        "\n",
        "\n",
        "if __name__ == \"__main__\":\n",
        "    main()\n"
      ]
    }
  ],
  "metadata": {
    "colab": {
      "provenance": [],
      "authorship_tag": "ABX9TyN6m0db36WexGaiI+12GB6F",
      "include_colab_link": true
    },
    "kernelspec": {
      "display_name": "Python 3",
      "name": "python3"
    },
    "language_info": {
      "name": "python"
    }
  },
  "nbformat": 4,
  "nbformat_minor": 0
}