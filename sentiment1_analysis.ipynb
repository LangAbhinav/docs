{
  "nbformat": 4,
  "nbformat_minor": 0,
  "metadata": {
    "colab": {
      "provenance": [],
      "gpuType": "T4",
      "authorship_tag": "ABX9TyOkIoYM5dVVm+mL+qlL14dY",
      "include_colab_link": true
    },
    "kernelspec": {
      "name": "python3",
      "display_name": "Python 3"
    },
    "language_info": {
      "name": "python"
    },
    "accelerator": "GPU"
  },
  "cells": [
    {
      "cell_type": "markdown",
      "metadata": {
        "id": "view-in-github",
        "colab_type": "text"
      },
      "source": [
        "<a href=\"https://colab.research.google.com/github/LangAbhinav/docs/blob/main/sentiment1_analysis.ipynb\" target=\"_parent\"><img src=\"https://colab.research.google.com/assets/colab-badge.svg\" alt=\"Open In Colab\"/></a>"
      ]
    },
    {
      "cell_type": "code",
      "execution_count": null,
      "metadata": {
        "id": "74pIcTISkU-w",
        "colab": {
          "base_uri": "https://localhost:8080/"
        },
        "outputId": "daf03680-cb36-45b5-cb8d-624eaedacd86"
      },
      "outputs": [
        {
          "output_type": "stream",
          "name": "stdout",
          "text": [
            "Drive already mounted at /content/drive; to attempt to forcibly remount, call drive.mount(\"/content/drive\", force_remount=True).\n"
          ]
        }
      ],
      "source": [
        "#MAJOR Project\n",
        "from google.colab import drive\n",
        "drive.mount('/content/drive')\n"
      ]
    },
    {
      "cell_type": "code",
      "source": [
        "import pandas as pd\n",
        "file_path = '/content/drive/MyDrive/Colab Notebooks/major/training.csv'\n",
        "\n",
        "df = pd.read_csv(file_path, names=['polarity', 'id', 'date', 'query', 'user', 'text'], encoding='latin-1')\n",
        "\n",
        "# Keep only rows with negative (0), neutral (2), and positive (4) sentiments\n",
        "df = df[df['polarity'].isin([0, 2, 4])]\n",
        "\n"
      ],
      "metadata": {
        "colab": {
          "base_uri": "https://localhost:8080/"
        },
        "id": "QBH7wEYdRHJm",
        "outputId": "283ad382-b83e-41ed-cfbe-8d50d4c4080d"
      },
      "execution_count": null,
      "outputs": [
        {
          "output_type": "stream",
          "name": "stderr",
          "text": [
            "<ipython-input-199-38e2d7c0873c>:4: DtypeWarning: Columns (0,1) have mixed types. Specify dtype option on import or set low_memory=False.\n",
            "  df = pd.read_csv(file_path, names=['polarity', 'id', 'date', 'query', 'user', 'text'], encoding='latin-1')\n"
          ]
        }
      ]
    },
    {
      "cell_type": "code",
      "source": [
        "df.columns\n"
      ],
      "metadata": {
        "colab": {
          "base_uri": "https://localhost:8080/"
        },
        "id": "P1ppuOwpOWwm",
        "outputId": "9c4185e4-a032-42d0-9d72-42b32d53284a"
      },
      "execution_count": null,
      "outputs": [
        {
          "output_type": "execute_result",
          "data": {
            "text/plain": [
              "Index(['polarity', 'id', 'date', 'query', 'user', 'text'], dtype='object')"
            ]
          },
          "metadata": {},
          "execution_count": 200
        }
      ]
    },
    {
      "cell_type": "code",
      "source": [
        "df.head()"
      ],
      "metadata": {
        "id": "LCmSmKNHjTUG",
        "colab": {
          "base_uri": "https://localhost:8080/",
          "height": 293
        },
        "outputId": "293782dd-684d-4ca4-fcee-9c16f2a48077"
      },
      "execution_count": null,
      "outputs": [
        {
          "output_type": "execute_result",
          "data": {
            "text/plain": [
              "       polarity          id                          date     query  \\\n",
              "131072        0  1835448846  Mon May 18 06:01:01 PDT 2009  NO_QUERY   \n",
              "131073        0  1835449206  Mon May 18 06:01:03 PDT 2009  NO_QUERY   \n",
              "131074        0  1835449420  Mon May 18 06:01:05 PDT 2009  NO_QUERY   \n",
              "131075        0  1835449781  Mon May 18 06:01:10 PDT 2009  NO_QUERY   \n",
              "131076        0  1835449800  Mon May 18 06:01:11 PDT 2009  NO_QUERY   \n",
              "\n",
              "                   user                                               text  \n",
              "131072     Planetmfiles  Where is spring? They are forecasting 30-35 de...  \n",
              "131073           DanyaW  Nothing like swiping your transpass on the bus...  \n",
              "131074       hannahmtew  @Sarahcecilia91 Lets go. I dont need this!  To...  \n",
              "131075  smileonmydreams  i need to effin sleep now!!!  ugh! why on eart...  \n",
              "131076        Pipster24  Bad UK #TSCC news reported but not sure how &q...  "
            ],
            "text/html": [
              "\n",
              "  <div id=\"df-4deae046-86e6-4c7b-a371-a56f4b584f51\" class=\"colab-df-container\">\n",
              "    <div>\n",
              "<style scoped>\n",
              "    .dataframe tbody tr th:only-of-type {\n",
              "        vertical-align: middle;\n",
              "    }\n",
              "\n",
              "    .dataframe tbody tr th {\n",
              "        vertical-align: top;\n",
              "    }\n",
              "\n",
              "    .dataframe thead th {\n",
              "        text-align: right;\n",
              "    }\n",
              "</style>\n",
              "<table border=\"1\" class=\"dataframe\">\n",
              "  <thead>\n",
              "    <tr style=\"text-align: right;\">\n",
              "      <th></th>\n",
              "      <th>polarity</th>\n",
              "      <th>id</th>\n",
              "      <th>date</th>\n",
              "      <th>query</th>\n",
              "      <th>user</th>\n",
              "      <th>text</th>\n",
              "    </tr>\n",
              "  </thead>\n",
              "  <tbody>\n",
              "    <tr>\n",
              "      <th>131072</th>\n",
              "      <td>0</td>\n",
              "      <td>1835448846</td>\n",
              "      <td>Mon May 18 06:01:01 PDT 2009</td>\n",
              "      <td>NO_QUERY</td>\n",
              "      <td>Planetmfiles</td>\n",
              "      <td>Where is spring? They are forecasting 30-35 de...</td>\n",
              "    </tr>\n",
              "    <tr>\n",
              "      <th>131073</th>\n",
              "      <td>0</td>\n",
              "      <td>1835449206</td>\n",
              "      <td>Mon May 18 06:01:03 PDT 2009</td>\n",
              "      <td>NO_QUERY</td>\n",
              "      <td>DanyaW</td>\n",
              "      <td>Nothing like swiping your transpass on the bus...</td>\n",
              "    </tr>\n",
              "    <tr>\n",
              "      <th>131074</th>\n",
              "      <td>0</td>\n",
              "      <td>1835449420</td>\n",
              "      <td>Mon May 18 06:01:05 PDT 2009</td>\n",
              "      <td>NO_QUERY</td>\n",
              "      <td>hannahmtew</td>\n",
              "      <td>@Sarahcecilia91 Lets go. I dont need this!  To...</td>\n",
              "    </tr>\n",
              "    <tr>\n",
              "      <th>131075</th>\n",
              "      <td>0</td>\n",
              "      <td>1835449781</td>\n",
              "      <td>Mon May 18 06:01:10 PDT 2009</td>\n",
              "      <td>NO_QUERY</td>\n",
              "      <td>smileonmydreams</td>\n",
              "      <td>i need to effin sleep now!!!  ugh! why on eart...</td>\n",
              "    </tr>\n",
              "    <tr>\n",
              "      <th>131076</th>\n",
              "      <td>0</td>\n",
              "      <td>1835449800</td>\n",
              "      <td>Mon May 18 06:01:11 PDT 2009</td>\n",
              "      <td>NO_QUERY</td>\n",
              "      <td>Pipster24</td>\n",
              "      <td>Bad UK #TSCC news reported but not sure how &amp;q...</td>\n",
              "    </tr>\n",
              "  </tbody>\n",
              "</table>\n",
              "</div>\n",
              "    <div class=\"colab-df-buttons\">\n",
              "\n",
              "  <div class=\"colab-df-container\">\n",
              "    <button class=\"colab-df-convert\" onclick=\"convertToInteractive('df-4deae046-86e6-4c7b-a371-a56f4b584f51')\"\n",
              "            title=\"Convert this dataframe to an interactive table.\"\n",
              "            style=\"display:none;\">\n",
              "\n",
              "  <svg xmlns=\"http://www.w3.org/2000/svg\" height=\"24px\" viewBox=\"0 -960 960 960\">\n",
              "    <path d=\"M120-120v-720h720v720H120Zm60-500h600v-160H180v160Zm220 220h160v-160H400v160Zm0 220h160v-160H400v160ZM180-400h160v-160H180v160Zm440 0h160v-160H620v160ZM180-180h160v-160H180v160Zm440 0h160v-160H620v160Z\"/>\n",
              "  </svg>\n",
              "    </button>\n",
              "\n",
              "  <style>\n",
              "    .colab-df-container {\n",
              "      display:flex;\n",
              "      gap: 12px;\n",
              "    }\n",
              "\n",
              "    .colab-df-convert {\n",
              "      background-color: #E8F0FE;\n",
              "      border: none;\n",
              "      border-radius: 50%;\n",
              "      cursor: pointer;\n",
              "      display: none;\n",
              "      fill: #1967D2;\n",
              "      height: 32px;\n",
              "      padding: 0 0 0 0;\n",
              "      width: 32px;\n",
              "    }\n",
              "\n",
              "    .colab-df-convert:hover {\n",
              "      background-color: #E2EBFA;\n",
              "      box-shadow: 0px 1px 2px rgba(60, 64, 67, 0.3), 0px 1px 3px 1px rgba(60, 64, 67, 0.15);\n",
              "      fill: #174EA6;\n",
              "    }\n",
              "\n",
              "    .colab-df-buttons div {\n",
              "      margin-bottom: 4px;\n",
              "    }\n",
              "\n",
              "    [theme=dark] .colab-df-convert {\n",
              "      background-color: #3B4455;\n",
              "      fill: #D2E3FC;\n",
              "    }\n",
              "\n",
              "    [theme=dark] .colab-df-convert:hover {\n",
              "      background-color: #434B5C;\n",
              "      box-shadow: 0px 1px 3px 1px rgba(0, 0, 0, 0.15);\n",
              "      filter: drop-shadow(0px 1px 2px rgba(0, 0, 0, 0.3));\n",
              "      fill: #FFFFFF;\n",
              "    }\n",
              "  </style>\n",
              "\n",
              "    <script>\n",
              "      const buttonEl =\n",
              "        document.querySelector('#df-4deae046-86e6-4c7b-a371-a56f4b584f51 button.colab-df-convert');\n",
              "      buttonEl.style.display =\n",
              "        google.colab.kernel.accessAllowed ? 'block' : 'none';\n",
              "\n",
              "      async function convertToInteractive(key) {\n",
              "        const element = document.querySelector('#df-4deae046-86e6-4c7b-a371-a56f4b584f51');\n",
              "        const dataTable =\n",
              "          await google.colab.kernel.invokeFunction('convertToInteractive',\n",
              "                                                    [key], {});\n",
              "        if (!dataTable) return;\n",
              "\n",
              "        const docLinkHtml = 'Like what you see? Visit the ' +\n",
              "          '<a target=\"_blank\" href=https://colab.research.google.com/notebooks/data_table.ipynb>data table notebook</a>'\n",
              "          + ' to learn more about interactive tables.';\n",
              "        element.innerHTML = '';\n",
              "        dataTable['output_type'] = 'display_data';\n",
              "        await google.colab.output.renderOutput(dataTable, element);\n",
              "        const docLink = document.createElement('div');\n",
              "        docLink.innerHTML = docLinkHtml;\n",
              "        element.appendChild(docLink);\n",
              "      }\n",
              "    </script>\n",
              "  </div>\n",
              "\n",
              "\n",
              "<div id=\"df-86db4811-5265-4d2f-a3aa-a809518d5e4f\">\n",
              "  <button class=\"colab-df-quickchart\" onclick=\"quickchart('df-86db4811-5265-4d2f-a3aa-a809518d5e4f')\"\n",
              "            title=\"Suggest charts\"\n",
              "            style=\"display:none;\">\n",
              "\n",
              "<svg xmlns=\"http://www.w3.org/2000/svg\" height=\"24px\"viewBox=\"0 0 24 24\"\n",
              "     width=\"24px\">\n",
              "    <g>\n",
              "        <path d=\"M19 3H5c-1.1 0-2 .9-2 2v14c0 1.1.9 2 2 2h14c1.1 0 2-.9 2-2V5c0-1.1-.9-2-2-2zM9 17H7v-7h2v7zm4 0h-2V7h2v10zm4 0h-2v-4h2v4z\"/>\n",
              "    </g>\n",
              "</svg>\n",
              "  </button>\n",
              "\n",
              "<style>\n",
              "  .colab-df-quickchart {\n",
              "      --bg-color: #E8F0FE;\n",
              "      --fill-color: #1967D2;\n",
              "      --hover-bg-color: #E2EBFA;\n",
              "      --hover-fill-color: #174EA6;\n",
              "      --disabled-fill-color: #AAA;\n",
              "      --disabled-bg-color: #DDD;\n",
              "  }\n",
              "\n",
              "  [theme=dark] .colab-df-quickchart {\n",
              "      --bg-color: #3B4455;\n",
              "      --fill-color: #D2E3FC;\n",
              "      --hover-bg-color: #434B5C;\n",
              "      --hover-fill-color: #FFFFFF;\n",
              "      --disabled-bg-color: #3B4455;\n",
              "      --disabled-fill-color: #666;\n",
              "  }\n",
              "\n",
              "  .colab-df-quickchart {\n",
              "    background-color: var(--bg-color);\n",
              "    border: none;\n",
              "    border-radius: 50%;\n",
              "    cursor: pointer;\n",
              "    display: none;\n",
              "    fill: var(--fill-color);\n",
              "    height: 32px;\n",
              "    padding: 0;\n",
              "    width: 32px;\n",
              "  }\n",
              "\n",
              "  .colab-df-quickchart:hover {\n",
              "    background-color: var(--hover-bg-color);\n",
              "    box-shadow: 0 1px 2px rgba(60, 64, 67, 0.3), 0 1px 3px 1px rgba(60, 64, 67, 0.15);\n",
              "    fill: var(--button-hover-fill-color);\n",
              "  }\n",
              "\n",
              "  .colab-df-quickchart-complete:disabled,\n",
              "  .colab-df-quickchart-complete:disabled:hover {\n",
              "    background-color: var(--disabled-bg-color);\n",
              "    fill: var(--disabled-fill-color);\n",
              "    box-shadow: none;\n",
              "  }\n",
              "\n",
              "  .colab-df-spinner {\n",
              "    border: 2px solid var(--fill-color);\n",
              "    border-color: transparent;\n",
              "    border-bottom-color: var(--fill-color);\n",
              "    animation:\n",
              "      spin 1s steps(1) infinite;\n",
              "  }\n",
              "\n",
              "  @keyframes spin {\n",
              "    0% {\n",
              "      border-color: transparent;\n",
              "      border-bottom-color: var(--fill-color);\n",
              "      border-left-color: var(--fill-color);\n",
              "    }\n",
              "    20% {\n",
              "      border-color: transparent;\n",
              "      border-left-color: var(--fill-color);\n",
              "      border-top-color: var(--fill-color);\n",
              "    }\n",
              "    30% {\n",
              "      border-color: transparent;\n",
              "      border-left-color: var(--fill-color);\n",
              "      border-top-color: var(--fill-color);\n",
              "      border-right-color: var(--fill-color);\n",
              "    }\n",
              "    40% {\n",
              "      border-color: transparent;\n",
              "      border-right-color: var(--fill-color);\n",
              "      border-top-color: var(--fill-color);\n",
              "    }\n",
              "    60% {\n",
              "      border-color: transparent;\n",
              "      border-right-color: var(--fill-color);\n",
              "    }\n",
              "    80% {\n",
              "      border-color: transparent;\n",
              "      border-right-color: var(--fill-color);\n",
              "      border-bottom-color: var(--fill-color);\n",
              "    }\n",
              "    90% {\n",
              "      border-color: transparent;\n",
              "      border-bottom-color: var(--fill-color);\n",
              "    }\n",
              "  }\n",
              "</style>\n",
              "\n",
              "  <script>\n",
              "    async function quickchart(key) {\n",
              "      const quickchartButtonEl =\n",
              "        document.querySelector('#' + key + ' button');\n",
              "      quickchartButtonEl.disabled = true;  // To prevent multiple clicks.\n",
              "      quickchartButtonEl.classList.add('colab-df-spinner');\n",
              "      try {\n",
              "        const charts = await google.colab.kernel.invokeFunction(\n",
              "            'suggestCharts', [key], {});\n",
              "      } catch (error) {\n",
              "        console.error('Error during call to suggestCharts:', error);\n",
              "      }\n",
              "      quickchartButtonEl.classList.remove('colab-df-spinner');\n",
              "      quickchartButtonEl.classList.add('colab-df-quickchart-complete');\n",
              "    }\n",
              "    (() => {\n",
              "      let quickchartButtonEl =\n",
              "        document.querySelector('#df-86db4811-5265-4d2f-a3aa-a809518d5e4f button');\n",
              "      quickchartButtonEl.style.display =\n",
              "        google.colab.kernel.accessAllowed ? 'block' : 'none';\n",
              "    })();\n",
              "  </script>\n",
              "</div>\n",
              "\n",
              "    </div>\n",
              "  </div>\n"
            ]
          },
          "metadata": {},
          "execution_count": 201
        }
      ]
    },
    {
      "cell_type": "code",
      "source": [
        "#for tweet_text in df['text']:\n",
        "    #print(tweet_text)"
      ],
      "metadata": {
        "id": "zdf1aPhzy0n4"
      },
      "execution_count": null,
      "outputs": []
    },
    {
      "cell_type": "code",
      "source": [
        "import numpy as np\n",
        "import pandas as pd\n",
        "import nltk\n",
        "from nltk.corpus import stopwords\n",
        "from sklearn.model_selection import train_test_split\n",
        "#from nltk.tokenize import RegexpTokenizer\n",
        "import re\n",
        "import string\n",
        "nltk.download('stopwords')\n"
      ],
      "metadata": {
        "colab": {
          "base_uri": "https://localhost:8080/"
        },
        "id": "Rmc3Sca4jZQp",
        "outputId": "db8e0d67-fa27-495c-ae5b-717d1399f9a8"
      },
      "execution_count": null,
      "outputs": [
        {
          "output_type": "stream",
          "name": "stderr",
          "text": [
            "[nltk_data] Downloading package stopwords to /root/nltk_data...\n",
            "[nltk_data]   Package stopwords is already up-to-date!\n"
          ]
        },
        {
          "output_type": "execute_result",
          "data": {
            "text/plain": [
              "True"
            ]
          },
          "metadata": {},
          "execution_count": 203
        }
      ]
    },
    {
      "cell_type": "code",
      "source": [
        "df.tail()"
      ],
      "metadata": {
        "id": "hDLVBt93UjET",
        "colab": {
          "base_uri": "https://localhost:8080/",
          "height": 293
        },
        "outputId": "f018b4f8-f6d2-4227-b6a1-dc7c6b37d398"
      },
      "execution_count": null,
      "outputs": [
        {
          "output_type": "execute_result",
          "data": {
            "text/plain": [
              "        polarity          id                          date     query  \\\n",
              "1048568        4  1960186342  Fri May 29 07:33:44 PDT 2009  NO_QUERY   \n",
              "1048569        4  1960186409  Fri May 29 07:33:43 PDT 2009  NO_QUERY   \n",
              "1048570        4  1960186429  Fri May 29 07:33:44 PDT 2009  NO_QUERY   \n",
              "1048571        4  1960186445  Fri May 29 07:33:44 PDT 2009  NO_QUERY   \n",
              "1048572        4  1960186607  Fri May 29 07:33:45 PDT 2009  NO_QUERY   \n",
              "\n",
              "                    user                                               text  \n",
              "1048568  Madelinedugganx           My GrandMa is making Dinenr with my Mum   \n",
              "1048569     OffRoad_Dude  Mid-morning snack time... A bowl of cheese noo...  \n",
              "1048570         Falchion  @ShaDeLa same here  say it like from the Termi...  \n",
              "1048571   jonasobsessedx             @DestinyHope92 im great thaanks  wbuu?  \n",
              "1048572        sugababez               cant wait til her date this weekend   "
            ],
            "text/html": [
              "\n",
              "  <div id=\"df-a4097acc-01d1-4426-8efc-e7c45c6db960\" class=\"colab-df-container\">\n",
              "    <div>\n",
              "<style scoped>\n",
              "    .dataframe tbody tr th:only-of-type {\n",
              "        vertical-align: middle;\n",
              "    }\n",
              "\n",
              "    .dataframe tbody tr th {\n",
              "        vertical-align: top;\n",
              "    }\n",
              "\n",
              "    .dataframe thead th {\n",
              "        text-align: right;\n",
              "    }\n",
              "</style>\n",
              "<table border=\"1\" class=\"dataframe\">\n",
              "  <thead>\n",
              "    <tr style=\"text-align: right;\">\n",
              "      <th></th>\n",
              "      <th>polarity</th>\n",
              "      <th>id</th>\n",
              "      <th>date</th>\n",
              "      <th>query</th>\n",
              "      <th>user</th>\n",
              "      <th>text</th>\n",
              "    </tr>\n",
              "  </thead>\n",
              "  <tbody>\n",
              "    <tr>\n",
              "      <th>1048568</th>\n",
              "      <td>4</td>\n",
              "      <td>1960186342</td>\n",
              "      <td>Fri May 29 07:33:44 PDT 2009</td>\n",
              "      <td>NO_QUERY</td>\n",
              "      <td>Madelinedugganx</td>\n",
              "      <td>My GrandMa is making Dinenr with my Mum</td>\n",
              "    </tr>\n",
              "    <tr>\n",
              "      <th>1048569</th>\n",
              "      <td>4</td>\n",
              "      <td>1960186409</td>\n",
              "      <td>Fri May 29 07:33:43 PDT 2009</td>\n",
              "      <td>NO_QUERY</td>\n",
              "      <td>OffRoad_Dude</td>\n",
              "      <td>Mid-morning snack time... A bowl of cheese noo...</td>\n",
              "    </tr>\n",
              "    <tr>\n",
              "      <th>1048570</th>\n",
              "      <td>4</td>\n",
              "      <td>1960186429</td>\n",
              "      <td>Fri May 29 07:33:44 PDT 2009</td>\n",
              "      <td>NO_QUERY</td>\n",
              "      <td>Falchion</td>\n",
              "      <td>@ShaDeLa same here  say it like from the Termi...</td>\n",
              "    </tr>\n",
              "    <tr>\n",
              "      <th>1048571</th>\n",
              "      <td>4</td>\n",
              "      <td>1960186445</td>\n",
              "      <td>Fri May 29 07:33:44 PDT 2009</td>\n",
              "      <td>NO_QUERY</td>\n",
              "      <td>jonasobsessedx</td>\n",
              "      <td>@DestinyHope92 im great thaanks  wbuu?</td>\n",
              "    </tr>\n",
              "    <tr>\n",
              "      <th>1048572</th>\n",
              "      <td>4</td>\n",
              "      <td>1960186607</td>\n",
              "      <td>Fri May 29 07:33:45 PDT 2009</td>\n",
              "      <td>NO_QUERY</td>\n",
              "      <td>sugababez</td>\n",
              "      <td>cant wait til her date this weekend</td>\n",
              "    </tr>\n",
              "  </tbody>\n",
              "</table>\n",
              "</div>\n",
              "    <div class=\"colab-df-buttons\">\n",
              "\n",
              "  <div class=\"colab-df-container\">\n",
              "    <button class=\"colab-df-convert\" onclick=\"convertToInteractive('df-a4097acc-01d1-4426-8efc-e7c45c6db960')\"\n",
              "            title=\"Convert this dataframe to an interactive table.\"\n",
              "            style=\"display:none;\">\n",
              "\n",
              "  <svg xmlns=\"http://www.w3.org/2000/svg\" height=\"24px\" viewBox=\"0 -960 960 960\">\n",
              "    <path d=\"M120-120v-720h720v720H120Zm60-500h600v-160H180v160Zm220 220h160v-160H400v160Zm0 220h160v-160H400v160ZM180-400h160v-160H180v160Zm440 0h160v-160H620v160ZM180-180h160v-160H180v160Zm440 0h160v-160H620v160Z\"/>\n",
              "  </svg>\n",
              "    </button>\n",
              "\n",
              "  <style>\n",
              "    .colab-df-container {\n",
              "      display:flex;\n",
              "      gap: 12px;\n",
              "    }\n",
              "\n",
              "    .colab-df-convert {\n",
              "      background-color: #E8F0FE;\n",
              "      border: none;\n",
              "      border-radius: 50%;\n",
              "      cursor: pointer;\n",
              "      display: none;\n",
              "      fill: #1967D2;\n",
              "      height: 32px;\n",
              "      padding: 0 0 0 0;\n",
              "      width: 32px;\n",
              "    }\n",
              "\n",
              "    .colab-df-convert:hover {\n",
              "      background-color: #E2EBFA;\n",
              "      box-shadow: 0px 1px 2px rgba(60, 64, 67, 0.3), 0px 1px 3px 1px rgba(60, 64, 67, 0.15);\n",
              "      fill: #174EA6;\n",
              "    }\n",
              "\n",
              "    .colab-df-buttons div {\n",
              "      margin-bottom: 4px;\n",
              "    }\n",
              "\n",
              "    [theme=dark] .colab-df-convert {\n",
              "      background-color: #3B4455;\n",
              "      fill: #D2E3FC;\n",
              "    }\n",
              "\n",
              "    [theme=dark] .colab-df-convert:hover {\n",
              "      background-color: #434B5C;\n",
              "      box-shadow: 0px 1px 3px 1px rgba(0, 0, 0, 0.15);\n",
              "      filter: drop-shadow(0px 1px 2px rgba(0, 0, 0, 0.3));\n",
              "      fill: #FFFFFF;\n",
              "    }\n",
              "  </style>\n",
              "\n",
              "    <script>\n",
              "      const buttonEl =\n",
              "        document.querySelector('#df-a4097acc-01d1-4426-8efc-e7c45c6db960 button.colab-df-convert');\n",
              "      buttonEl.style.display =\n",
              "        google.colab.kernel.accessAllowed ? 'block' : 'none';\n",
              "\n",
              "      async function convertToInteractive(key) {\n",
              "        const element = document.querySelector('#df-a4097acc-01d1-4426-8efc-e7c45c6db960');\n",
              "        const dataTable =\n",
              "          await google.colab.kernel.invokeFunction('convertToInteractive',\n",
              "                                                    [key], {});\n",
              "        if (!dataTable) return;\n",
              "\n",
              "        const docLinkHtml = 'Like what you see? Visit the ' +\n",
              "          '<a target=\"_blank\" href=https://colab.research.google.com/notebooks/data_table.ipynb>data table notebook</a>'\n",
              "          + ' to learn more about interactive tables.';\n",
              "        element.innerHTML = '';\n",
              "        dataTable['output_type'] = 'display_data';\n",
              "        await google.colab.output.renderOutput(dataTable, element);\n",
              "        const docLink = document.createElement('div');\n",
              "        docLink.innerHTML = docLinkHtml;\n",
              "        element.appendChild(docLink);\n",
              "      }\n",
              "    </script>\n",
              "  </div>\n",
              "\n",
              "\n",
              "<div id=\"df-c62bf6ca-e69b-45c0-b0fd-4dd5a640576c\">\n",
              "  <button class=\"colab-df-quickchart\" onclick=\"quickchart('df-c62bf6ca-e69b-45c0-b0fd-4dd5a640576c')\"\n",
              "            title=\"Suggest charts\"\n",
              "            style=\"display:none;\">\n",
              "\n",
              "<svg xmlns=\"http://www.w3.org/2000/svg\" height=\"24px\"viewBox=\"0 0 24 24\"\n",
              "     width=\"24px\">\n",
              "    <g>\n",
              "        <path d=\"M19 3H5c-1.1 0-2 .9-2 2v14c0 1.1.9 2 2 2h14c1.1 0 2-.9 2-2V5c0-1.1-.9-2-2-2zM9 17H7v-7h2v7zm4 0h-2V7h2v10zm4 0h-2v-4h2v4z\"/>\n",
              "    </g>\n",
              "</svg>\n",
              "  </button>\n",
              "\n",
              "<style>\n",
              "  .colab-df-quickchart {\n",
              "      --bg-color: #E8F0FE;\n",
              "      --fill-color: #1967D2;\n",
              "      --hover-bg-color: #E2EBFA;\n",
              "      --hover-fill-color: #174EA6;\n",
              "      --disabled-fill-color: #AAA;\n",
              "      --disabled-bg-color: #DDD;\n",
              "  }\n",
              "\n",
              "  [theme=dark] .colab-df-quickchart {\n",
              "      --bg-color: #3B4455;\n",
              "      --fill-color: #D2E3FC;\n",
              "      --hover-bg-color: #434B5C;\n",
              "      --hover-fill-color: #FFFFFF;\n",
              "      --disabled-bg-color: #3B4455;\n",
              "      --disabled-fill-color: #666;\n",
              "  }\n",
              "\n",
              "  .colab-df-quickchart {\n",
              "    background-color: var(--bg-color);\n",
              "    border: none;\n",
              "    border-radius: 50%;\n",
              "    cursor: pointer;\n",
              "    display: none;\n",
              "    fill: var(--fill-color);\n",
              "    height: 32px;\n",
              "    padding: 0;\n",
              "    width: 32px;\n",
              "  }\n",
              "\n",
              "  .colab-df-quickchart:hover {\n",
              "    background-color: var(--hover-bg-color);\n",
              "    box-shadow: 0 1px 2px rgba(60, 64, 67, 0.3), 0 1px 3px 1px rgba(60, 64, 67, 0.15);\n",
              "    fill: var(--button-hover-fill-color);\n",
              "  }\n",
              "\n",
              "  .colab-df-quickchart-complete:disabled,\n",
              "  .colab-df-quickchart-complete:disabled:hover {\n",
              "    background-color: var(--disabled-bg-color);\n",
              "    fill: var(--disabled-fill-color);\n",
              "    box-shadow: none;\n",
              "  }\n",
              "\n",
              "  .colab-df-spinner {\n",
              "    border: 2px solid var(--fill-color);\n",
              "    border-color: transparent;\n",
              "    border-bottom-color: var(--fill-color);\n",
              "    animation:\n",
              "      spin 1s steps(1) infinite;\n",
              "  }\n",
              "\n",
              "  @keyframes spin {\n",
              "    0% {\n",
              "      border-color: transparent;\n",
              "      border-bottom-color: var(--fill-color);\n",
              "      border-left-color: var(--fill-color);\n",
              "    }\n",
              "    20% {\n",
              "      border-color: transparent;\n",
              "      border-left-color: var(--fill-color);\n",
              "      border-top-color: var(--fill-color);\n",
              "    }\n",
              "    30% {\n",
              "      border-color: transparent;\n",
              "      border-left-color: var(--fill-color);\n",
              "      border-top-color: var(--fill-color);\n",
              "      border-right-color: var(--fill-color);\n",
              "    }\n",
              "    40% {\n",
              "      border-color: transparent;\n",
              "      border-right-color: var(--fill-color);\n",
              "      border-top-color: var(--fill-color);\n",
              "    }\n",
              "    60% {\n",
              "      border-color: transparent;\n",
              "      border-right-color: var(--fill-color);\n",
              "    }\n",
              "    80% {\n",
              "      border-color: transparent;\n",
              "      border-right-color: var(--fill-color);\n",
              "      border-bottom-color: var(--fill-color);\n",
              "    }\n",
              "    90% {\n",
              "      border-color: transparent;\n",
              "      border-bottom-color: var(--fill-color);\n",
              "    }\n",
              "  }\n",
              "</style>\n",
              "\n",
              "  <script>\n",
              "    async function quickchart(key) {\n",
              "      const quickchartButtonEl =\n",
              "        document.querySelector('#' + key + ' button');\n",
              "      quickchartButtonEl.disabled = true;  // To prevent multiple clicks.\n",
              "      quickchartButtonEl.classList.add('colab-df-spinner');\n",
              "      try {\n",
              "        const charts = await google.colab.kernel.invokeFunction(\n",
              "            'suggestCharts', [key], {});\n",
              "      } catch (error) {\n",
              "        console.error('Error during call to suggestCharts:', error);\n",
              "      }\n",
              "      quickchartButtonEl.classList.remove('colab-df-spinner');\n",
              "      quickchartButtonEl.classList.add('colab-df-quickchart-complete');\n",
              "    }\n",
              "    (() => {\n",
              "      let quickchartButtonEl =\n",
              "        document.querySelector('#df-c62bf6ca-e69b-45c0-b0fd-4dd5a640576c button');\n",
              "      quickchartButtonEl.style.display =\n",
              "        google.colab.kernel.accessAllowed ? 'block' : 'none';\n",
              "    })();\n",
              "  </script>\n",
              "</div>\n",
              "\n",
              "    </div>\n",
              "  </div>\n"
            ]
          },
          "metadata": {},
          "execution_count": 204
        }
      ]
    },
    {
      "cell_type": "code",
      "source": [
        "df=df[['text','polarity']]"
      ],
      "metadata": {
        "id": "kHGayDGlfiRd"
      },
      "execution_count": null,
      "outputs": []
    },
    {
      "cell_type": "code",
      "source": [
        "df.isnull().sum()"
      ],
      "metadata": {
        "colab": {
          "base_uri": "https://localhost:8080/"
        },
        "id": "zMqoaMTusJ7T",
        "outputId": "448fafe0-7727-4125-ccb6-0f92f5e719bb"
      },
      "execution_count": null,
      "outputs": [
        {
          "output_type": "execute_result",
          "data": {
            "text/plain": [
              "text        0\n",
              "polarity    0\n",
              "dtype: int64"
            ]
          },
          "metadata": {},
          "execution_count": 206
        }
      ]
    },
    {
      "cell_type": "code",
      "source": [
        "print(df['polarity'].value_counts())  # Shows the frequency of each unique value\n"
      ],
      "metadata": {
        "id": "ow5NV4TNfhNf",
        "colab": {
          "base_uri": "https://localhost:8080/"
        },
        "outputId": "74252b59-b4cc-4aa8-d985-b74864198e60"
      },
      "execution_count": null,
      "outputs": [
        {
          "output_type": "stream",
          "name": "stdout",
          "text": [
            "0    668925\n",
            "4    248576\n",
            "Name: polarity, dtype: int64\n"
          ]
        }
      ]
    },
    {
      "cell_type": "code",
      "source": [
        "df.replace({'polarity':{4:1}},inplace=True)"
      ],
      "metadata": {
        "id": "GcfpIYV0ufRl"
      },
      "execution_count": null,
      "outputs": []
    },
    {
      "cell_type": "code",
      "source": [
        "df['polarity'].value_counts()"
      ],
      "metadata": {
        "colab": {
          "base_uri": "https://localhost:8080/"
        },
        "id": "sgfQXueQvixZ",
        "outputId": "7ac3c065-d019-43d1-e140-03c9865f7fc0"
      },
      "execution_count": null,
      "outputs": [
        {
          "output_type": "execute_result",
          "data": {
            "text/plain": [
              "0    668925\n",
              "1    248576\n",
              "Name: polarity, dtype: int64"
            ]
          },
          "metadata": {},
          "execution_count": 209
        }
      ]
    },
    {
      "cell_type": "code",
      "source": [
        "# Create a new DataFrame with balanced classes\n",
        "min_samples = 248576\n",
        "df_majority = df[df['polarity'] == 0].sample(n=min_samples, random_state=42)\n",
        "df_balanced = pd.concat([df_majority, df[df['polarity'] == 1]])\n",
        "df_balanced = df_balanced.sample(frac=1).reset_index(drop=True)\n",
        "df_balanced = df_balanced.sample(frac=1, random_state=42)\n",
        "df_balanced = df_balanced.reset_index(drop=True)\n",
        "\n",
        "# Print the class distribution\n",
        "print(df_balanced['polarity'].value_counts())\n",
        "\n",
        "# Print the first five rows of the DataFrame\n",
        "print(df_balanced.tail())"
      ],
      "metadata": {
        "colab": {
          "base_uri": "https://localhost:8080/"
        },
        "id": "ECJ0EIy-Oezc",
        "outputId": "d95d5717-b162-4582-bfcd-37574e6047cd"
      },
      "execution_count": null,
      "outputs": [
        {
          "output_type": "stream",
          "name": "stdout",
          "text": [
            "0    248576\n",
            "1    248576\n",
            "Name: polarity, dtype: int64\n",
            "                                                     text  polarity\n",
            "497147  is sad that she'll be missing this month's Dar...         0\n",
            "497148  'yeah, 'cause the heart never lies.  good nigh...         1\n",
            "497149  @imjustcreative That video makes me smile - I ...         1\n",
            "497150                     Done with osm and now at ohl.          1\n",
            "497151  One of the two newborn kittens ive had to nurs...         0\n"
          ]
        }
      ]
    },
    {
      "cell_type": "code",
      "source": [
        "df_balanced = df_balanced.sample(frac=1).reset_index(drop=True)"
      ],
      "metadata": {
        "id": "UWK0hEomPUEl"
      },
      "execution_count": null,
      "outputs": []
    },
    {
      "cell_type": "code",
      "source": [
        "print(df_balanced.shape)"
      ],
      "metadata": {
        "colab": {
          "base_uri": "https://localhost:8080/"
        },
        "id": "q5qfJn4TPWut",
        "outputId": "ea6d151a-5ebe-4f13-b1a9-b772f721885d"
      },
      "execution_count": null,
      "outputs": [
        {
          "output_type": "stream",
          "name": "stdout",
          "text": [
            "(497152, 2)\n"
          ]
        }
      ]
    },
    {
      "cell_type": "code",
      "source": [
        "print(df_balanced.tail())"
      ],
      "metadata": {
        "colab": {
          "base_uri": "https://localhost:8080/"
        },
        "id": "1t7PrAmfP4IK",
        "outputId": "ba0044ca-62fc-4c3b-e11a-46963ee07858"
      },
      "execution_count": null,
      "outputs": [
        {
          "output_type": "stream",
          "name": "stdout",
          "text": [
            "                                                     text  polarity\n",
            "497147  @jen_kat yay  not sure when we'll be going for...         1\n",
            "497148          watching the F1..jensonn! Missing my boo          0\n",
            "497149                        @Rebekah_McFly  aww thanks!         0\n",
            "497150  @ImInLoveWithMJ im good i had great time hang ...         1\n",
            "497151  @savagemike Some backstory on the Daily Kos: h...         1\n"
          ]
        }
      ]
    },
    {
      "cell_type": "code",
      "source": [
        "df = df_balanced"
      ],
      "metadata": {
        "id": "TFXQZaDuihxk"
      },
      "execution_count": null,
      "outputs": []
    },
    {
      "cell_type": "code",
      "source": [
        "df['text']=df['text'].str.lower()"
      ],
      "metadata": {
        "id": "itJMTKNfinQl"
      },
      "execution_count": null,
      "outputs": []
    },
    {
      "cell_type": "code",
      "source": [
        "stopwords_list = stopwords.words('english')\n",
        "\", \".join(stopwords.words('english'))\n"
      ],
      "metadata": {
        "id": "p5g63UxTbRy4",
        "colab": {
          "base_uri": "https://localhost:8080/",
          "height": 164
        },
        "outputId": "0a46f225-7bad-4e4b-e197-119c80c0e870"
      },
      "execution_count": null,
      "outputs": [
        {
          "output_type": "execute_result",
          "data": {
            "text/plain": [
              "\"i, me, my, myself, we, our, ours, ourselves, you, you're, you've, you'll, you'd, your, yours, yourself, yourselves, he, him, his, himself, she, she's, her, hers, herself, it, it's, its, itself, they, them, their, theirs, themselves, what, which, who, whom, this, that, that'll, these, those, am, is, are, was, were, be, been, being, have, has, had, having, do, does, did, doing, a, an, the, and, but, if, or, because, as, until, while, of, at, by, for, with, about, against, between, into, through, during, before, after, above, below, to, from, up, down, in, out, on, off, over, under, again, further, then, once, here, there, when, where, why, how, all, any, both, each, few, more, most, other, some, such, no, nor, not, only, own, same, so, than, too, very, s, t, can, will, just, don, don't, should, should've, now, d, ll, m, o, re, ve, y, ain, aren, aren't, couldn, couldn't, didn, didn't, doesn, doesn't, hadn, hadn't, hasn, hasn't, haven, haven't, isn, isn't, ma, mightn, mightn't, mustn, mustn't, needn, needn't, shan, shan't, shouldn, shouldn't, wasn, wasn't, weren, weren't, won, won't, wouldn, wouldn't\""
            ],
            "application/vnd.google.colaboratory.intrinsic+json": {
              "type": "string"
            }
          },
          "metadata": {},
          "execution_count": 216
        }
      ]
    },
    {
      "cell_type": "code",
      "source": [
        "STOPWORDS = set(stopwords.words('english'))\n",
        "def cleaning_stopwords(text):\n",
        "    return \" \".join([word for word in str(text).split() if word not in STOPWORDS])\n",
        "df['text'] = df['text'].apply(lambda text: cleaning_stopwords(text))\n",
        "df['text'].head()\n"
      ],
      "metadata": {
        "id": "Zao8M6EPbmJJ",
        "colab": {
          "base_uri": "https://localhost:8080/"
        },
        "outputId": "ad0d0165-a2a1-4a4d-8e16-18decffc4200"
      },
      "execution_count": null,
      "outputs": [
        {
          "output_type": "execute_result",
          "data": {
            "text/plain": [
              "0        feels like never gonna finish bl**dy module!!\n",
              "1       okay, 2 things i'm old for: cavities pimples!!\n",
              "2    @thebrandicyrus kidding me? love oc watched ev...\n",
              "3                         need poorly dog little sleep\n",
              "4    @wweedge ahhhh sweet... u miss me...but havent...\n",
              "Name: text, dtype: object"
            ]
          },
          "metadata": {},
          "execution_count": 217
        }
      ]
    },
    {
      "cell_type": "code",
      "source": [
        "english_punctuations = string.punctuation\n",
        "punctuations_list = english_punctuations\n",
        "def cleaning_punctuations(text):\n",
        "    translator = str.maketrans('', '', punctuations_list)\n",
        "    return text.translate(translator)\n"
      ],
      "metadata": {
        "id": "JbUnYjt6cHlv"
      },
      "execution_count": null,
      "outputs": []
    },
    {
      "cell_type": "code",
      "source": [
        "df['text']= df['text'].apply(lambda x: cleaning_punctuations(x))\n",
        "df['text'].tail()\n"
      ],
      "metadata": {
        "id": "SpErXRcIcJ4n",
        "colab": {
          "base_uri": "https://localhost:8080/"
        },
        "outputId": "12b9940a-108c-44cf-d627-d3ae2f9390c9"
      },
      "execution_count": null,
      "outputs": [
        {
          "output_type": "execute_result",
          "data": {
            "text/plain": [
              "497147    jenkat yay sure well going sure yet meet us ch...\n",
              "497148                       watching f1jensonn missing boo\n",
              "497149                              rebekahmcfly aww thanks\n",
              "497150    iminlovewithmj im good great time hang 2 girl ...\n",
              "497151    savagemike backstory daily kos httpbitlyd9nih ...\n",
              "Name: text, dtype: object"
            ]
          },
          "metadata": {},
          "execution_count": 219
        }
      ]
    },
    {
      "cell_type": "code",
      "source": [
        "def cleaning_repeating_char(text):\n",
        "    return re.sub(r'(.)\\1+', r'\\1', text)\n"
      ],
      "metadata": {
        "id": "J9Mfp0E5cTP0"
      },
      "execution_count": null,
      "outputs": []
    },
    {
      "cell_type": "code",
      "source": [
        "df['text'] = df['text'].apply(lambda x: cleaning_repeating_char(x))\n",
        "df['text'].tail()\n"
      ],
      "metadata": {
        "id": "EfAQoSNDcdDo",
        "colab": {
          "base_uri": "https://localhost:8080/"
        },
        "outputId": "79d53f14-ecf8-4025-fb70-93368926ec12"
      },
      "execution_count": null,
      "outputs": [
        {
          "output_type": "execute_result",
          "data": {
            "text/plain": [
              "497147    jenkat yay sure wel going sure yet met us chur...\n",
              "497148                          watching f1jenson mising bo\n",
              "497149                               rebekahmcfly aw thanks\n",
              "497150    iminlovewithmj im god great time hang 2 girl f...\n",
              "497151    savagemike backstory daily kos htpbitlyd9nih p...\n",
              "Name: text, dtype: object"
            ]
          },
          "metadata": {},
          "execution_count": 221
        }
      ]
    },
    {
      "cell_type": "code",
      "source": [
        "def cleaning_email(df):\n",
        "    return re.sub('@[^\\s]+', ' ', df)\n"
      ],
      "metadata": {
        "id": "pE5dmMdZcmHi"
      },
      "execution_count": null,
      "outputs": []
    },
    {
      "cell_type": "code",
      "source": [
        "df['text']= df['text'].apply(lambda x: cleaning_email(x))\n",
        "df['text'].tail()\n"
      ],
      "metadata": {
        "id": "ThRgrBrOcu7K",
        "colab": {
          "base_uri": "https://localhost:8080/"
        },
        "outputId": "dab4e197-c5b7-4cb6-991e-79934ffaa591"
      },
      "execution_count": null,
      "outputs": [
        {
          "output_type": "execute_result",
          "data": {
            "text/plain": [
              "497147    jenkat yay sure wel going sure yet met us chur...\n",
              "497148                          watching f1jenson mising bo\n",
              "497149                               rebekahmcfly aw thanks\n",
              "497150    iminlovewithmj im god great time hang 2 girl f...\n",
              "497151    savagemike backstory daily kos htpbitlyd9nih p...\n",
              "Name: text, dtype: object"
            ]
          },
          "metadata": {},
          "execution_count": 223
        }
      ]
    },
    {
      "cell_type": "code",
      "source": [
        "def cleaning_URLs(df):\n",
        "    return re.sub('((www\\.[^\\s]+)|(https?://[^\\s]+))',' ',df)\n"
      ],
      "metadata": {
        "id": "woED6FXYc6Z-"
      },
      "execution_count": null,
      "outputs": []
    },
    {
      "cell_type": "code",
      "source": [
        "df['text'] = df['text'].apply(lambda x: cleaning_URLs(x))\n",
        "df['text'].tail()\n"
      ],
      "metadata": {
        "id": "YZ7Oh_rKdHqi",
        "colab": {
          "base_uri": "https://localhost:8080/"
        },
        "outputId": "f00a90ad-28cc-415a-cada-2a1c87b4bc18"
      },
      "execution_count": null,
      "outputs": [
        {
          "output_type": "execute_result",
          "data": {
            "text/plain": [
              "497147    jenkat yay sure wel going sure yet met us chur...\n",
              "497148                          watching f1jenson mising bo\n",
              "497149                               rebekahmcfly aw thanks\n",
              "497150    iminlovewithmj im god great time hang 2 girl f...\n",
              "497151    savagemike backstory daily kos htpbitlyd9nih p...\n",
              "Name: text, dtype: object"
            ]
          },
          "metadata": {},
          "execution_count": 225
        }
      ]
    },
    {
      "cell_type": "code",
      "source": [
        "def cleaning_numbers(df):\n",
        "    return re.sub('[0-9]+', '', df)\n"
      ],
      "metadata": {
        "id": "c74DaDlsdTLJ"
      },
      "execution_count": null,
      "outputs": []
    },
    {
      "cell_type": "code",
      "source": [
        "df['text'] = df['text'].apply(lambda x: cleaning_numbers(x))\n",
        "df['text'].tail()\n"
      ],
      "metadata": {
        "id": "nkC8PBMXezxo",
        "colab": {
          "base_uri": "https://localhost:8080/"
        },
        "outputId": "a1feee11-dc52-47c6-830a-aeeddc8608cc"
      },
      "execution_count": null,
      "outputs": [
        {
          "output_type": "execute_result",
          "data": {
            "text/plain": [
              "497147    jenkat yay sure wel going sure yet met us chur...\n",
              "497148                           watching fjenson mising bo\n",
              "497149                               rebekahmcfly aw thanks\n",
              "497150    iminlovewithmj im god great time hang  girl fr...\n",
              "497151    savagemike backstory daily kos htpbitlydnih pr...\n",
              "Name: text, dtype: object"
            ]
          },
          "metadata": {},
          "execution_count": 227
        }
      ]
    },
    {
      "cell_type": "code",
      "source": [
        "#from nltk.tokenize import RegexpTokenizer\n",
        "#tokenizer = RegexpTokenizer(r'\\w+')\n",
        "#df['text'] = df['text'].apply(tokenizer.tokenize)\n",
        "#df['text'].head()\n"
      ],
      "metadata": {
        "id": "2CosSmolfHVd"
      },
      "execution_count": null,
      "outputs": []
    },
    {
      "cell_type": "code",
      "source": [
        "from nltk.stem import PorterStemmer\n",
        "st = nltk.PorterStemmer()\n",
        "def stemming_on_text(df):\n",
        "    text = [st.stem(word) for word in df]\n",
        "    return df\n",
        "\n",
        "df['text']= df['text'].apply(lambda x: stemming_on_text(x))"
      ],
      "metadata": {
        "id": "ZYjUhxAkrOpL"
      },
      "execution_count": null,
      "outputs": []
    },
    {
      "cell_type": "code",
      "source": [
        "df['text'].head()"
      ],
      "metadata": {
        "id": "aGPzhrTigD0u",
        "colab": {
          "base_uri": "https://localhost:8080/"
        },
        "outputId": "cd13811c-7cac-4b1b-a261-28ee9c3d5236"
      },
      "execution_count": null,
      "outputs": [
        {
          "output_type": "execute_result",
          "data": {
            "text/plain": [
              "0              fels like never gona finish bldy module\n",
              "1             okay  things im old for cavities pimples\n",
              "2    thebrandicyrus kiding me love oc watched every...\n",
              "3                             ned porly dog litle slep\n",
              "4    wedge ah swet u mis mebut havent even met yet ...\n",
              "Name: text, dtype: object"
            ]
          },
          "metadata": {},
          "execution_count": 230
        }
      ]
    },
    {
      "cell_type": "code",
      "source": [
        "print(df['polarity'])"
      ],
      "metadata": {
        "colab": {
          "base_uri": "https://localhost:8080/"
        },
        "id": "E44Xiq_81POY",
        "outputId": "97e0dcd3-b20e-4285-8217-d4894f81a91d"
      },
      "execution_count": null,
      "outputs": [
        {
          "output_type": "stream",
          "name": "stdout",
          "text": [
            "0         0\n",
            "1         1\n",
            "2         0\n",
            "3         0\n",
            "4         1\n",
            "         ..\n",
            "497147    1\n",
            "497148    0\n",
            "497149    0\n",
            "497150    1\n",
            "497151    1\n",
            "Name: polarity, Length: 497152, dtype: int64\n"
          ]
        }
      ]
    },
    {
      "cell_type": "code",
      "source": [
        "X=df['text'].values\n",
        "Y=df['polarity'].values\n"
      ],
      "metadata": {
        "id": "iTyyl-wlgPm8"
      },
      "execution_count": null,
      "outputs": []
    },
    {
      "cell_type": "code",
      "source": [
        "print(X)\n"
      ],
      "metadata": {
        "id": "RTU6QjiNSQlK",
        "colab": {
          "base_uri": "https://localhost:8080/"
        },
        "outputId": "5e01558d-0882-4734-9eb8-1ef9fbf2d337"
      },
      "execution_count": null,
      "outputs": [
        {
          "output_type": "stream",
          "name": "stdout",
          "text": [
            "['fels like never gona finish bldy module'\n",
            " 'okay  things im old for cavities pimples'\n",
            " 'thebrandicyrus kiding me love oc watched every day im jealous ' ...\n",
            " 'rebekahmcfly aw thanks'\n",
            " 'iminlovewithmj im god great time hang  girl friends last night thank you work'\n",
            " 'savagemike backstory daily kos htpbitlydnih prety acurate itl take esay explain']\n"
          ]
        }
      ]
    },
    {
      "cell_type": "code",
      "source": [
        "print(type(Y))"
      ],
      "metadata": {
        "colab": {
          "base_uri": "https://localhost:8080/"
        },
        "id": "ZErVOg-SEgr9",
        "outputId": "7c767bb9-764a-4b73-92ba-f726bed25cb9"
      },
      "execution_count": null,
      "outputs": [
        {
          "output_type": "stream",
          "name": "stdout",
          "text": [
            "<class 'numpy.ndarray'>\n"
          ]
        }
      ]
    },
    {
      "cell_type": "code",
      "source": [
        "print(Y.dtype)"
      ],
      "metadata": {
        "colab": {
          "base_uri": "https://localhost:8080/"
        },
        "id": "iQdor-HnEodi",
        "outputId": "e848cb2a-47fc-4559-e476-ec01d1cd7441"
      },
      "execution_count": null,
      "outputs": [
        {
          "output_type": "stream",
          "name": "stdout",
          "text": [
            "int64\n"
          ]
        }
      ]
    },
    {
      "cell_type": "code",
      "source": [
        "from sklearn.model_selection import train_test_split\n",
        "#X_train, X_test, Y_train, Y_test = train_test_split(X_train, Y_train, test_size=0.2, random_state=2)"
      ],
      "metadata": {
        "id": "928toJxfIWfX"
      },
      "execution_count": null,
      "outputs": []
    },
    {
      "cell_type": "code",
      "source": [
        "X_train, X_test, Y_train, Y_test = train_test_split(X, Y, test_size=0.2, stratify=Y, random_state=2)"
      ],
      "metadata": {
        "id": "Wy9VoZXo3x9i"
      },
      "execution_count": null,
      "outputs": []
    },
    {
      "cell_type": "code",
      "source": [
        "print(X.shape, X_train.shape, X_test.shape)"
      ],
      "metadata": {
        "colab": {
          "base_uri": "https://localhost:8080/"
        },
        "id": "-TwCJ-fQ5oQ6",
        "outputId": "014aeb31-d57f-47b1-a40e-d1c96bfa074e"
      },
      "execution_count": null,
      "outputs": [
        {
          "output_type": "stream",
          "name": "stdout",
          "text": [
            "(497152,) (397721,) (99431,)\n"
          ]
        }
      ]
    },
    {
      "cell_type": "code",
      "source": [
        " from sklearn.feature_extraction.text import TfidfVectorizer\n",
        " vectorizer = TfidfVectorizer()\n",
        " X_train = vectorizer.fit_transform(X_train)\n",
        " X_test = vectorizer.transform(X_test)"
      ],
      "metadata": {
        "id": "g-GkL2KJ6JZt"
      },
      "execution_count": null,
      "outputs": []
    },
    {
      "cell_type": "code",
      "source": [
        "print(X_train)"
      ],
      "metadata": {
        "colab": {
          "base_uri": "https://localhost:8080/"
        },
        "id": "9a83Bt6W8nQt",
        "outputId": "4942bc9d-6a9f-4a02-f4f5-532e130a3388"
      },
      "execution_count": null,
      "outputs": [
        {
          "output_type": "stream",
          "name": "stdout",
          "text": [
            "  (0, 233095)\t0.29606483860707866\n",
            "  (0, 146681)\t0.2636726249465276\n",
            "  (0, 49251)\t0.40059425559935863\n",
            "  (0, 16298)\t0.24554059662088681\n",
            "  (0, 71047)\t0.2562057576121664\n",
            "  (0, 212872)\t0.24755277700194223\n",
            "  (0, 88878)\t0.19993417314063136\n",
            "  (0, 149270)\t0.23355662525798326\n",
            "  (0, 157160)\t0.29921518985122836\n",
            "  (0, 51830)\t0.15808390611082715\n",
            "  (0, 85327)\t0.19717152970146704\n",
            "  (0, 246401)\t0.19791876343716697\n",
            "  (0, 94083)\t0.19098735939407085\n",
            "  (0, 19634)\t0.21353744316422332\n",
            "  (0, 244108)\t0.3549185346304026\n",
            "  (1, 142401)\t0.6298791965376449\n",
            "  (1, 146497)\t0.34309557692060716\n",
            "  (1, 68857)\t0.4559441568678486\n",
            "  (1, 83621)\t0.5269274605528482\n",
            "  (2, 69645)\t0.41150614439928884\n",
            "  (2, 174435)\t0.28507221306170427\n",
            "  (2, 234497)\t0.6785503764958142\n",
            "  (2, 140390)\t0.21746460164505632\n",
            "  (2, 58250)\t0.21787158269636347\n",
            "  (2, 147691)\t0.44068927091984134\n",
            "  :\t:\n",
            "  (397717, 269390)\t0.19901028278111035\n",
            "  (397717, 261554)\t0.1597427387203559\n",
            "  (397717, 261358)\t0.3774698596433479\n",
            "  (397717, 85327)\t0.17034953431723235\n",
            "  (397718, 191578)\t0.5898027958838116\n",
            "  (397718, 137406)\t0.7057479792959455\n",
            "  (397718, 51830)\t0.3924951613553071\n",
            "  (397719, 186720)\t0.7094318720404724\n",
            "  (397719, 178401)\t0.3197392350683051\n",
            "  (397719, 185084)\t0.29007094354838586\n",
            "  (397719, 160270)\t0.25745326847600053\n",
            "  (397719, 201891)\t0.24225916073647663\n",
            "  (397719, 83925)\t0.2283791942044119\n",
            "  (397719, 214602)\t0.24560336186413212\n",
            "  (397719, 210149)\t0.2699672833620718\n",
            "  (397720, 65793)\t0.4683535904001537\n",
            "  (397720, 161483)\t0.3707691661843518\n",
            "  (397720, 58031)\t0.29942324198367354\n",
            "  (397720, 233640)\t0.3098892379686277\n",
            "  (397720, 215338)\t0.362060088112311\n",
            "  (397720, 159652)\t0.2925082802659409\n",
            "  (397720, 185084)\t0.23087451226191336\n",
            "  (397720, 238044)\t0.25969371360909177\n",
            "  (397720, 159341)\t0.3007002219487439\n",
            "  (397720, 81404)\t0.1722684878587531\n"
          ]
        }
      ]
    },
    {
      "cell_type": "code",
      "source": [
        "print(X_test)"
      ],
      "metadata": {
        "colab": {
          "base_uri": "https://localhost:8080/"
        },
        "id": "8o5ip9-Q85dp",
        "outputId": "21bdbc06-759c-46ea-dc30-d43a2ea94696"
      },
      "execution_count": null,
      "outputs": [
        {
          "output_type": "stream",
          "name": "stdout",
          "text": [
            "  (0, 157539)\t0.4696079407381303\n",
            "  (0, 155162)\t0.23853264882481176\n",
            "  (0, 141147)\t0.5694826596442876\n",
            "  (0, 133691)\t0.39515451229849496\n",
            "  (0, 82663)\t0.292772136393519\n",
            "  (0, 81475)\t0.25302139204913393\n",
            "  (0, 79553)\t0.30393686931994973\n",
            "  (1, 234977)\t0.47951422925216763\n",
            "  (1, 178135)\t0.30633401618830913\n",
            "  (1, 114225)\t0.17785072798637955\n",
            "  (1, 70078)\t0.41371440541572446\n",
            "  (1, 52603)\t0.5124376527726329\n",
            "  (1, 10767)\t0.45917614898614145\n",
            "  (2, 262498)\t0.7027982323029904\n",
            "  (2, 242072)\t0.64708259126355\n",
            "  (2, 228809)\t0.29556516160644064\n",
            "  (3, 237005)\t0.5684009591757467\n",
            "  (3, 181677)\t0.5211157350571347\n",
            "  (3, 140565)\t0.29830157796711715\n",
            "  (3, 94999)\t0.396779506263985\n",
            "  (3, 83925)\t0.21171617412551422\n",
            "  (3, 18913)\t0.33781236491408156\n",
            "  (4, 253568)\t0.38760328684857276\n",
            "  (4, 237517)\t0.2419832088781693\n",
            "  (4, 172819)\t0.1523325776782955\n",
            "  :\t:\n",
            "  (99428, 72360)\t0.2959092508401279\n",
            "  (99428, 22168)\t0.36306758505814607\n",
            "  (99428, 21350)\t0.3184571022402755\n",
            "  (99428, 15309)\t0.32455190648708804\n",
            "  (99429, 261866)\t0.40981481946397486\n",
            "  (99429, 260098)\t0.21268378840923097\n",
            "  (99429, 250357)\t0.24646994278321613\n",
            "  (99429, 232823)\t0.23189178282854975\n",
            "  (99429, 220622)\t0.3995428702658173\n",
            "  (99429, 184507)\t0.29069903051692314\n",
            "  (99429, 145214)\t0.2152066426016214\n",
            "  (99429, 140419)\t0.25179524922433916\n",
            "  (99429, 128756)\t0.3238284375083291\n",
            "  (99429, 83925)\t0.31810617561025145\n",
            "  (99429, 76129)\t0.23655163882610236\n",
            "  (99429, 71047)\t0.2375456512953361\n",
            "  (99430, 264505)\t0.4479684733844676\n",
            "  (99430, 261331)\t0.27466101591455344\n",
            "  (99430, 247455)\t0.44914909362928485\n",
            "  (99430, 230181)\t0.2380363221263743\n",
            "  (99430, 215500)\t0.3650833402740886\n",
            "  (99430, 201891)\t0.2314918410753941\n",
            "  (99430, 181989)\t0.3537168998706119\n",
            "  (99430, 111716)\t0.32538532920049373\n",
            "  (99430, 83925)\t0.2182287760304869\n"
          ]
        }
      ]
    },
    {
      "cell_type": "code",
      "source": [
        "from sklearn.linear_model import LogisticRegression\n",
        "from sklearn.metrics import accuracy_score\n",
        "model = LogisticRegression(max_iter=1000)"
      ],
      "metadata": {
        "id": "efYLcUPO9Cqo"
      },
      "execution_count": null,
      "outputs": []
    },
    {
      "cell_type": "code",
      "source": [
        "model.fit(X_train, Y_train)"
      ],
      "metadata": {
        "colab": {
          "base_uri": "https://localhost:8080/",
          "height": 74
        },
        "id": "QWyqEoyI-OrE",
        "outputId": "672748e3-e5b9-4d67-8e4a-03636b79e127"
      },
      "execution_count": null,
      "outputs": [
        {
          "output_type": "execute_result",
          "data": {
            "text/plain": [
              "LogisticRegression(max_iter=1000)"
            ],
            "text/html": [
              "<style>#sk-container-id-3 {color: black;background-color: white;}#sk-container-id-3 pre{padding: 0;}#sk-container-id-3 div.sk-toggleable {background-color: white;}#sk-container-id-3 label.sk-toggleable__label {cursor: pointer;display: block;width: 100%;margin-bottom: 0;padding: 0.3em;box-sizing: border-box;text-align: center;}#sk-container-id-3 label.sk-toggleable__label-arrow:before {content: \"▸\";float: left;margin-right: 0.25em;color: #696969;}#sk-container-id-3 label.sk-toggleable__label-arrow:hover:before {color: black;}#sk-container-id-3 div.sk-estimator:hover label.sk-toggleable__label-arrow:before {color: black;}#sk-container-id-3 div.sk-toggleable__content {max-height: 0;max-width: 0;overflow: hidden;text-align: left;background-color: #f0f8ff;}#sk-container-id-3 div.sk-toggleable__content pre {margin: 0.2em;color: black;border-radius: 0.25em;background-color: #f0f8ff;}#sk-container-id-3 input.sk-toggleable__control:checked~div.sk-toggleable__content {max-height: 200px;max-width: 100%;overflow: auto;}#sk-container-id-3 input.sk-toggleable__control:checked~label.sk-toggleable__label-arrow:before {content: \"▾\";}#sk-container-id-3 div.sk-estimator input.sk-toggleable__control:checked~label.sk-toggleable__label {background-color: #d4ebff;}#sk-container-id-3 div.sk-label input.sk-toggleable__control:checked~label.sk-toggleable__label {background-color: #d4ebff;}#sk-container-id-3 input.sk-hidden--visually {border: 0;clip: rect(1px 1px 1px 1px);clip: rect(1px, 1px, 1px, 1px);height: 1px;margin: -1px;overflow: hidden;padding: 0;position: absolute;width: 1px;}#sk-container-id-3 div.sk-estimator {font-family: monospace;background-color: #f0f8ff;border: 1px dotted black;border-radius: 0.25em;box-sizing: border-box;margin-bottom: 0.5em;}#sk-container-id-3 div.sk-estimator:hover {background-color: #d4ebff;}#sk-container-id-3 div.sk-parallel-item::after {content: \"\";width: 100%;border-bottom: 1px solid gray;flex-grow: 1;}#sk-container-id-3 div.sk-label:hover label.sk-toggleable__label {background-color: #d4ebff;}#sk-container-id-3 div.sk-serial::before {content: \"\";position: absolute;border-left: 1px solid gray;box-sizing: border-box;top: 0;bottom: 0;left: 50%;z-index: 0;}#sk-container-id-3 div.sk-serial {display: flex;flex-direction: column;align-items: center;background-color: white;padding-right: 0.2em;padding-left: 0.2em;position: relative;}#sk-container-id-3 div.sk-item {position: relative;z-index: 1;}#sk-container-id-3 div.sk-parallel {display: flex;align-items: stretch;justify-content: center;background-color: white;position: relative;}#sk-container-id-3 div.sk-item::before, #sk-container-id-3 div.sk-parallel-item::before {content: \"\";position: absolute;border-left: 1px solid gray;box-sizing: border-box;top: 0;bottom: 0;left: 50%;z-index: -1;}#sk-container-id-3 div.sk-parallel-item {display: flex;flex-direction: column;z-index: 1;position: relative;background-color: white;}#sk-container-id-3 div.sk-parallel-item:first-child::after {align-self: flex-end;width: 50%;}#sk-container-id-3 div.sk-parallel-item:last-child::after {align-self: flex-start;width: 50%;}#sk-container-id-3 div.sk-parallel-item:only-child::after {width: 0;}#sk-container-id-3 div.sk-dashed-wrapped {border: 1px dashed gray;margin: 0 0.4em 0.5em 0.4em;box-sizing: border-box;padding-bottom: 0.4em;background-color: white;}#sk-container-id-3 div.sk-label label {font-family: monospace;font-weight: bold;display: inline-block;line-height: 1.2em;}#sk-container-id-3 div.sk-label-container {text-align: center;}#sk-container-id-3 div.sk-container {/* jupyter's `normalize.less` sets `[hidden] { display: none; }` but bootstrap.min.css set `[hidden] { display: none !important; }` so we also need the `!important` here to be able to override the default hidden behavior on the sphinx rendered scikit-learn.org. See: https://github.com/scikit-learn/scikit-learn/issues/21755 */display: inline-block !important;position: relative;}#sk-container-id-3 div.sk-text-repr-fallback {display: none;}</style><div id=\"sk-container-id-3\" class=\"sk-top-container\"><div class=\"sk-text-repr-fallback\"><pre>LogisticRegression(max_iter=1000)</pre><b>In a Jupyter environment, please rerun this cell to show the HTML representation or trust the notebook. <br />On GitHub, the HTML representation is unable to render, please try loading this page with nbviewer.org.</b></div><div class=\"sk-container\" hidden><div class=\"sk-item\"><div class=\"sk-estimator sk-toggleable\"><input class=\"sk-toggleable__control sk-hidden--visually\" id=\"sk-estimator-id-3\" type=\"checkbox\" checked><label for=\"sk-estimator-id-3\" class=\"sk-toggleable__label sk-toggleable__label-arrow\">LogisticRegression</label><div class=\"sk-toggleable__content\"><pre>LogisticRegression(max_iter=1000)</pre></div></div></div></div></div>"
            ]
          },
          "metadata": {},
          "execution_count": 243
        }
      ]
    },
    {
      "cell_type": "code",
      "source": [
        "X_train_pred = model.predict(X_train)\n",
        "training_data_accuracy = accuracy_score(Y_train, X_train_pred)"
      ],
      "metadata": {
        "id": "CedIXIm76XSl"
      },
      "execution_count": null,
      "outputs": []
    },
    {
      "cell_type": "code",
      "source": [
        "print(\"Accuracy score on the training data :\", training_data_accuracy)"
      ],
      "metadata": {
        "colab": {
          "base_uri": "https://localhost:8080/"
        },
        "id": "Tgxqrqd67Jt6",
        "outputId": "0fdc3e9f-8fde-42fb-b09a-473ab740ecb4"
      },
      "execution_count": null,
      "outputs": [
        {
          "output_type": "stream",
          "name": "stdout",
          "text": [
            "Accuracy score on the training data : 0.832847649482929\n"
          ]
        }
      ]
    },
    {
      "cell_type": "code",
      "source": [
        "X_test_pred = model.predict(X_test)\n",
        "test_data_accuracy = accuracy_score(Y_test, X_test_pred)"
      ],
      "metadata": {
        "id": "A3V-jMOm7zWm"
      },
      "execution_count": null,
      "outputs": []
    },
    {
      "cell_type": "code",
      "source": [
        "print(\"Accuracy score on the test data :\", test_data_accuracy)"
      ],
      "metadata": {
        "colab": {
          "base_uri": "https://localhost:8080/"
        },
        "id": "mNxagWJ28IqC",
        "outputId": "30a3d1f3-ec89-46f6-b8c6-db0f38a46a28"
      },
      "execution_count": null,
      "outputs": [
        {
          "output_type": "stream",
          "name": "stdout",
          "text": [
            "Accuracy score on the test data : 0.7863442990616608\n"
          ]
        }
      ]
    },
    {
      "cell_type": "code",
      "source": [
        "import pickle"
      ],
      "metadata": {
        "id": "XyAUr9OI87Lw"
      },
      "execution_count": null,
      "outputs": []
    },
    {
      "cell_type": "code",
      "source": [
        "filename = 'trained_model.pkm'\n",
        "pickle.dump(model, open(filename,'wb'))\n"
      ],
      "metadata": {
        "id": "TMKFiTYQDvk7"
      },
      "execution_count": null,
      "outputs": []
    },
    {
      "cell_type": "code",
      "source": [
        "loaded_model = pickle.load(open('/content/trained_model.pkm', 'rb'))"
      ],
      "metadata": {
        "id": "lXpdzYRpFVkM"
      },
      "execution_count": null,
      "outputs": []
    },
    {
      "cell_type": "code",
      "source": [
        "X_new = X_test[9]\n",
        "print(Y_test[9])"
      ],
      "metadata": {
        "colab": {
          "base_uri": "https://localhost:8080/"
        },
        "id": "fUNg-ZiwF0sK",
        "outputId": "0b9d2dba-019a-494d-c711-507dac06371b"
      },
      "execution_count": null,
      "outputs": [
        {
          "output_type": "stream",
          "name": "stdout",
          "text": [
            "1\n"
          ]
        }
      ]
    },
    {
      "cell_type": "code",
      "source": [
        "pred = loaded_model.predict(X_new)\n",
        "print(pred)\n",
        "\n",
        "if(pred[0] == 0):\n",
        "  print(\"Negative\")\n",
        "else:\n",
        "  print(\"Positive\")"
      ],
      "metadata": {
        "colab": {
          "base_uri": "https://localhost:8080/"
        },
        "id": "c7Afb2KHGQYB",
        "outputId": "37ab6536-cc74-45b8-fb48-1a20469ba5ec"
      },
      "execution_count": null,
      "outputs": [
        {
          "output_type": "stream",
          "name": "stdout",
          "text": [
            "[1]\n",
            "Positive\n"
          ]
        }
      ]
    }
  ]
}